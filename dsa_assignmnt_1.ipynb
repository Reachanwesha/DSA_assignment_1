{
 "cells": [
  {
   "cell_type": "code",
   "execution_count": 33,
   "id": "a3a804e4",
   "metadata": {},
   "outputs": [
    {
     "name": "stdout",
     "output_type": "stream",
     "text": [
      "[2, 4]\n"
     ]
    }
   ],
   "source": [
    "#1. Given an array, check if it contains any duplicates or not.\n",
    "#Output = True\n",
    "duplicates = []\n",
    "\n",
    "def check_duplicate(arr):\n",
    "    for i in arr:\n",
    "        if arr.count(i) > 1:\n",
    "            if i not in duplicates:\n",
    "                duplicates.append(i)\n",
    "\n",
    "    print(duplicates)\n",
    "\n",
    "## driver code\n",
    "arr = [1, 2, 4, 2, 5,4, 9]\n",
    "result = check_duplicate(arr)\n"
   ]
  },
  {
   "cell_type": "code",
   "execution_count": 76,
   "id": "d2ebdb5a",
   "metadata": {},
   "outputs": [
    {
     "name": "stdout",
     "output_type": "stream",
     "text": [
      "5 6 7 1 2 3 4 \n",
      "\n"
     ]
    }
   ],
   "source": [
    "#2. Given an array and an integer k, rotate the array to the right by k steps.\n",
    "def rotate_array(arr, n, k):\n",
    "    k = k % n;\n",
    " \n",
    "    for i in range(0, n):\n",
    " \n",
    "        if(i < k):\n",
    "            print(arr[n + i - k], end = \" \");\n",
    " \n",
    "        else:\n",
    "            print(arr[i - k], end = \" \");\n",
    " \n",
    "    print(\"\\n\");\n",
    "#driver code\n",
    "arr = [1, 2, 3, 4, 5, 6, 7] \n",
    "k = 3\n",
    "n=len(arr)\n",
    "rotate_array(arr,n,k)\n",
    "# Output = [5, 6, 7, 1, 2, 3, 4]"
   ]
  },
  {
   "cell_type": "code",
   "execution_count": 69,
   "id": "4a3e160d",
   "metadata": {},
   "outputs": [
    {
     "data": {
      "text/plain": [
       "[12, 9, 7, 5, 4, 2]"
      ]
     },
     "execution_count": 69,
     "metadata": {},
     "output_type": "execute_result"
    }
   ],
   "source": [
    "#3. Reverse the given array in-place, means without using any extra data structure.\n",
    "arr = [2, 4, 5, 7, 9, 12]\n",
    "arr[::-1]\n",
    "    "
   ]
  },
  {
   "cell_type": "code",
   "execution_count": 70,
   "id": "8492504f",
   "metadata": {},
   "outputs": [
    {
     "name": "stdout",
     "output_type": "stream",
     "text": [
      "20\n"
     ]
    }
   ],
   "source": [
    "#4. Given an array of integers, find the maximum element in an array\n",
    "arr = [10, 5, 20, 8, 15]\n",
    "print(max(arr))\n"
   ]
  },
  {
   "cell_type": "code",
   "execution_count": 72,
   "id": "2abd911d",
   "metadata": {},
   "outputs": [
    {
     "name": "stdout",
     "output_type": "stream",
     "text": [
      "{1, 2, 3, 4, 5}\n"
     ]
    }
   ],
   "source": [
    "#5. Given a sorted array, remove the duplicate element without using any extra data structure.\n",
    "arr = [1, 1, 2, 2, 2, 3, 3, 4, 4, 4, 5, 5]\n",
    "for i in arr:\n",
    "    new_arr = set(arr)\n",
    "print(new_arr)\n",
    "        \n",
    "        "
   ]
  },
  {
   "cell_type": "code",
   "execution_count": null,
   "id": "fcc56eef",
   "metadata": {},
   "outputs": [],
   "source": []
  }
 ],
 "metadata": {
  "kernelspec": {
   "display_name": "Python 3",
   "language": "python",
   "name": "python3"
  },
  "language_info": {
   "codemirror_mode": {
    "name": "ipython",
    "version": 3
   },
   "file_extension": ".py",
   "mimetype": "text/x-python",
   "name": "python",
   "nbconvert_exporter": "python",
   "pygments_lexer": "ipython3",
   "version": "3.8.8"
  }
 },
 "nbformat": 4,
 "nbformat_minor": 5
}
